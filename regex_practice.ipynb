{
 "cells": [
  {
   "cell_type": "code",
   "execution_count": 7,
   "metadata": {},
   "outputs": [
    {
     "name": "stdout",
     "output_type": "stream",
     "text": [
      "I wanto go to the park, but it is raining.\n"
     ]
    }
   ],
   "source": [
    "# Remove consecutive duplicate words from the following sentence.\n",
    "text = \"I want to go to the the park, but it it is raining.\"\n",
    "\n",
    "import re\n",
    "regex =r'(\\w+)\\s\\1'\n",
    "print(re.sub(regex,r'\\1',text))"
   ]
  },
  {
   "cell_type": "code",
   "execution_count": 8,
   "metadata": {},
   "outputs": [
    {
     "name": "stdout",
     "output_type": "stream",
     "text": [
      "['2024-10-15', '2025-01-30']\n"
     ]
    }
   ],
   "source": [
    "# Extract all dates in the format YYYY-MM-DD from the following text.\n",
    "text = \"The project started on 2024-10-15 and will end on 2025-01-30.\"\n",
    "\n",
    "regex = r'\\d{4}-\\d{2}-\\d{2}'\n",
    "print(re.findall(regex,text))"
   ]
  },
  {
   "cell_type": "code",
   "execution_count": 9,
   "metadata": {},
   "outputs": [
    {
     "name": "stdout",
     "output_type": "stream",
     "text": [
      "['support@example.com', 'sales@example.org']\n"
     ]
    }
   ],
   "source": [
    "# Extract all valid email addresses from the following text.\n",
    "text = \"Please contact us at support@example.com or sales@example.org for further information.\"\n",
    "\n",
    "regex = r'[a-zA-Z0-9._%+-]+@[a-zA-Z0-9]+\\.[a-zA-X]{2,}'\n",
    "print(re.findall(regex,text))\n"
   ]
  },
  {
   "cell_type": "code",
   "execution_count": 10,
   "metadata": {},
   "outputs": [
    {
     "name": "stdout",
     "output_type": "stream",
     "text": [
      "['ABC-1234', 'XYZ-5678', 'DEF-9101']\n"
     ]
    }
   ],
   "source": [
    "# Extract product IDs in the format ABC-1234 from the following text.\n",
    "text = \"The following products are available: ABC-1234, XYZ-5678, and DEF-9101.\"\n",
    "\n",
    "regex = r'[A-Z]{3}-[0-9]{4}'\n",
    "print(re.findall(regex,text))"
   ]
  },
  {
   "cell_type": "code",
   "execution_count": 11,
   "metadata": {},
   "outputs": [
    {
     "name": "stdout",
     "output_type": "stream",
     "text": [
      "You can reach us at 123-456-7890 or 987-654-3210.\n"
     ]
    }
   ],
   "source": [
    "# Extract and reformat phone numbers from the following text.\n",
    "# Input format: (123) 456-7890\n",
    "# Output format: 123-456-7890\n",
    "text = \"You can reach us at (123) 456-7890 or (987) 654-3210.\"\n",
    "\n",
    "regex = r'(\\([0-9]{3}\\)\\s([0-9]{3})-([0-9]{3}))'\n",
    "regex = r'\\((\\d{3})\\)\\s(\\d{3})-(\\d{4})'\n",
    "print(re.sub(regex,r'\\1-\\2-\\3',text))"
   ]
  },
  {
   "cell_type": "code",
   "execution_count": 12,
   "metadata": {},
   "outputs": [],
   "source": [
    "# Extract the names of the days of the week mentioned in the following text.\n",
    "text = \"Our office is closed on Sundays and open from Monday to Friday.\""
   ]
  }
 ],
 "metadata": {
  "kernelspec": {
   "display_name": "base",
   "language": "python",
   "name": "python3"
  },
  "language_info": {
   "codemirror_mode": {
    "name": "ipython",
    "version": 3
   },
   "file_extension": ".py",
   "mimetype": "text/x-python",
   "name": "python",
   "nbconvert_exporter": "python",
   "pygments_lexer": "ipython3",
   "version": "3.12.7"
  }
 },
 "nbformat": 4,
 "nbformat_minor": 2
}
