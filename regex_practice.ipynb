{
 "cells": [
  {
   "cell_type": "code",
   "execution_count": 1,
   "metadata": {},
   "outputs": [
    {
     "name": "stdout",
     "output_type": "stream",
     "text": [
      "I wanto go to the park, but it is raining.\n"
     ]
    }
   ],
   "source": [
    "# Remove consecutive duplicate words from the following sentence.\n",
    "text = \"I want to go to the the park, but it it is raining.\"\n",
    "\n",
    "import re\n",
    "regex =r'(\\w+)\\s\\1'\n",
    "print(re.sub(regex,r'\\1',text))"
   ]
  },
  {
   "cell_type": "code",
   "execution_count": 2,
   "metadata": {},
   "outputs": [
    {
     "name": "stdout",
     "output_type": "stream",
     "text": [
      "['2024-10-15', '2025-01-30']\n"
     ]
    }
   ],
   "source": [
    "# Extract all dates in the format YYYY-MM-DD from the following text.\n",
    "text = \"The project started on 2024-10-15 and will end on 2025-01-30.\"\n",
    "\n",
    "regex = r'\\d{4}-\\d{2}-\\d{2}'\n",
    "print(re.findall(regex,text))"
   ]
  },
  {
   "cell_type": "code",
   "execution_count": 3,
   "metadata": {},
   "outputs": [
    {
     "name": "stdout",
     "output_type": "stream",
     "text": [
      "['support@example.com', 'sales@example.org']\n"
     ]
    }
   ],
   "source": [
    "# Extract all valid email addresses from the following text.\n",
    "text = \"Please contact us at support@example.com or sales@example.org for further information.\"\n",
    "\n",
    "regex = r'[a-zA-Z0-9._%+-]+@[a-zA-Z0-9]+\\.[a-zA-X]{2,}'\n",
    "print(re.findall(regex,text))\n"
   ]
  },
  {
   "cell_type": "code",
   "execution_count": 4,
   "metadata": {},
   "outputs": [
    {
     "name": "stdout",
     "output_type": "stream",
     "text": [
      "['ABC-1234', 'XYZ-5678', 'DEF-9101']\n"
     ]
    }
   ],
   "source": [
    "# Extract product IDs in the format ABC-1234 from the following text.\n",
    "text = \"The following products are available: ABC-1234, XYZ-5678, and DEF-9101.\"\n",
    "\n",
    "regex = r'[A-Z]{3}-[0-9]{4}'\n",
    "print(re.findall(regex,text))"
   ]
  },
  {
   "cell_type": "code",
   "execution_count": 5,
   "metadata": {},
   "outputs": [
    {
     "name": "stdout",
     "output_type": "stream",
     "text": [
      "You can reach us at 123-456-7890 or 987-654-3210.\n"
     ]
    }
   ],
   "source": [
    "# Extract and reformat phone numbers from the following text.\n",
    "# Input format: (123) 456-7890\n",
    "# Output format: 123-456-7890\n",
    "text = \"You can reach us at (123) 456-7890 or (987) 654-3210.\"\n",
    "\n",
    "regex = r'\\((\\d{3})\\)\\s(\\d{3})-(\\d{4})'\n",
    "print(re.sub(regex,r'\\1-\\2-\\3',text))"
   ]
  },
  {
   "cell_type": "code",
   "execution_count": 6,
   "metadata": {},
   "outputs": [
    {
     "name": "stdout",
     "output_type": "stream",
     "text": [
      "['Sunday', 'Monday', 'Friday']\n"
     ]
    }
   ],
   "source": [
    "# Extract the names of the days of the week mentioned in the following text.\n",
    "text = \"Our office is closed on Sundays and open from Monday to Friday.\"\n",
    "\n",
    "regex = r'(Monday|Tuesday|Wednesday|Thursday|Friday|Saturday|Sunday)'\n",
    "\n",
    "# regex = r'\\b(?:Mon|Tues|Wedne|Thurs|Fri|Satur|Sun)day\\b' (better idea?)\n",
    "\n",
    "print(re.findall(regex,text))"
   ]
  },
  {
   "cell_type": "code",
   "execution_count": 7,
   "metadata": {},
   "outputs": [
    {
     "name": "stdout",
     "output_type": "stream",
     "text": [
      "Welcome! This is a test page.\n"
     ]
    }
   ],
   "source": [
    "# Remove all HTML tags from the following HTML snippet and extract the text.\n",
    "html = \"<html><body><h1>Welcome!</h1><p>This is a test page.</p></body></html>\"\n",
    "\n",
    "regex = r'<[^>]+>' # regex = r'<.+>' is greedy and match all\n",
    "result = re.sub(regex,'',html)\n",
    "print(re.sub(r'!(\\S)', r'! \\1', result)) # added space between '!' and 'This'"
   ]
  },
  {
   "cell_type": "code",
   "execution_count": 8,
   "metadata": {},
   "outputs": [
    {
     "name": "stdout",
     "output_type": "stream",
     "text": [
      "['P@ssw0rd', 'Strong#1']\n"
     ]
    }
   ],
   "source": [
    "# Write a regex to validate passwords that meet the following criteria:\n",
    "# At least 8 characters long.\n",
    "# Contains at least one uppercase letter, one lowercase letter, one digit, and one special character (e.g., @, #, $).\n",
    "passwords = [\"P@ssw0rd\", \"password123\", \"12345\", \"Strong#1\"]\n",
    "\n",
    "# regex = '([A-Z]|[0-9]|[a-z]|[!@#$]){8,}'　- partly matching so wrong\n",
    "regex = r'^(?=.*[A-Z])(?=.*[a-z])(?=.*\\d)(?=.*[!@#$])[A-Za-z\\d!@#$]{8,}$'\n",
    "valid_passwords = [pwd for pwd in passwords if re.fullmatch(regex, pwd)]\n",
    "print(valid_passwords)"
   ]
  },
  {
   "cell_type": "code",
   "execution_count": 9,
   "metadata": {},
   "outputs": [],
   "source": [
    "# Remove duplicate lines from the following text.\n",
    "text = \"\"\"apple\n",
    "banana\n",
    "apple\n",
    "orange\n",
    "banana\n",
    "grape\"\"\"\n",
    "\n"
   ]
  },
  {
   "cell_type": "code",
   "execution_count": 10,
   "metadata": {},
   "outputs": [
    {
     "ename": "SyntaxError",
     "evalue": "invalid syntax (2880203367.py, line 4)",
     "output_type": "error",
     "traceback": [
      "\u001b[0;36m  Cell \u001b[0;32mIn[10], line 4\u001b[0;36m\u001b[0m\n\u001b[0;31m    Copy code\u001b[0m\n\u001b[0m         ^\u001b[0m\n\u001b[0;31mSyntaxError\u001b[0m\u001b[0;31m:\u001b[0m invalid syntax\n"
     ]
    }
   ],
   "source": [
    "# Extract all decimal numbers from the following text.\n",
    "\n",
    "python\n",
    "Copy code\n",
    "text = \"The measurements are 3.14, 42.0, and 0.99. The total is 100.5.\""
   ]
  }
 ],
 "metadata": {
  "kernelspec": {
   "display_name": "base",
   "language": "python",
   "name": "python3"
  },
  "language_info": {
   "codemirror_mode": {
    "name": "ipython",
    "version": 3
   },
   "file_extension": ".py",
   "mimetype": "text/x-python",
   "name": "python",
   "nbconvert_exporter": "python",
   "pygments_lexer": "ipython3",
   "version": "3.12.7"
  }
 },
 "nbformat": 4,
 "nbformat_minor": 2
}
